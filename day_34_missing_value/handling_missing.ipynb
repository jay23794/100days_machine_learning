{
 "cells": [
  {
   "cell_type": "markdown",
   "metadata": {},
   "source": [
    "# Handline misssing value"
   ]
  },
  {
   "cell_type": "markdown",
   "metadata": {},
   "source": [
    "- Remove NAN (it will remove the overall row)\n",
    "   Mostly  use when the missing data ia less than 5%\n",
    "- Impute Data (Fill rows with data, Mean etc)   \n",
    "  1) univariate\n",
    "     1) Categorical\n",
    "         - Most frequent value\n",
    "         - Missing\n",
    "     2) Numerical\n",
    "         - Filling data with mean, random value, end of distribution\n",
    "  2) Multivariate\n",
    "    - Knn imputer\n",
    "    - iterative imputer"
   ]
  },
  {
   "cell_type": "markdown",
   "metadata": {},
   "source": [
    "\n",
    "Complete Case Analysis (CCA), also known as listwise deletion or case deletion, is a simple method for handling missing data in statistical analysis. In CCA, any observation (or case) with missing values in any variable is entirely excluded from the analysis."
   ]
  },
  {
   "cell_type": "markdown",
   "metadata": {},
   "source": [
    "- Advantages of Complete Case Analysis:\n",
    "\n",
    "    - Simple to implement and understand.\n",
    "    - Preserves the sample size of the original dataset for analysis.\n",
    "\n",
    "- Disadvantages of Complete Case Analysis:\n",
    "\n",
    "    - Can lead to biased results if missing data are not missing completely at random (MCAR).\n",
    "    - May result in loss of information, especially if missingness is related to the outcome or other variables of interest.\n",
    "    - Reduces statistical power, especially if the proportion of missing data is large.\n",
    "    - Complete Case Analysis is suitable when the missing data are missing completely at random (MCAR) and the proportion of missing data   is small. However, it may not be appropriate for datasets with non-random missingness or when missing values are informative.\n",
    "\n",
    "    - It's essential to assess the nature and patterns of missing data before deciding on the appropriate method for handling missing data. In some cases, more sophisticated techniques such as multiple imputation or maximum likelihood estimation may be more appropriate for addressing missing data."
   ]
  },
  {
   "cell_type": "code",
   "execution_count": null,
   "metadata": {},
   "outputs": [],
   "source": []
  }
 ],
 "metadata": {
  "kernelspec": {
   "display_name": "base",
   "language": "python",
   "name": "python3"
  },
  "language_info": {
   "codemirror_mode": {
    "name": "ipython",
    "version": 3
   },
   "file_extension": ".py",
   "mimetype": "text/x-python",
   "name": "python",
   "nbconvert_exporter": "python",
   "pygments_lexer": "ipython3",
   "version": "3.9.12"
  }
 },
 "nbformat": 4,
 "nbformat_minor": 2
}
