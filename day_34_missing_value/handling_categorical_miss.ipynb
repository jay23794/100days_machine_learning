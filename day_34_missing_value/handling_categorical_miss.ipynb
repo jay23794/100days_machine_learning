{
 "cells": [
  {
   "cell_type": "markdown",
   "metadata": {},
   "source": [
    "# Handling categorical missing imputation"
   ]
  },
  {
   "cell_type": "markdown",
   "metadata": {},
   "source": [
    "- Most frequent value imputation\n",
    "\n",
    "- Most frequent value imputation, also known as mode imputation, is a method used to handle missing data by replacing missing values with the most common value (mode) observed in the dataset for that particular variable\n",
    "- Most frequent value imputation is a simple and straightforward method, and it is particularly useful for categorical variables or variables with a limited number of distinct values. It is commonly used when missing data is believed to be missing completely at random (MCAR) or when other imputation methods are not suitable."
   ]
  },
  {
   "cell_type": "markdown",
   "metadata": {},
   "source": [
    "* Missing category imputation\n",
    " - Missing category imputation, also known as category mode imputation, is a method used to handle missing values in categorical variables by replacing them with a specific category. This method is similar to most frequent value imputation for numerical variables, but it applies to categorical variables instead.\n",
    "- Here's how missing category imputation works:\n",
    "  - Identify Missing Values:\n",
    "  - Calculate Mode\n",
    "  - Imputation\n",
    "  - Repeat for Each Categorical Variable:"
   ]
  },
  {
   "cell_type": "code",
   "execution_count": null,
   "metadata": {
    "vscode": {
     "languageId": "plaintext"
    }
   },
   "outputs": [],
   "source": []
  }
 ],
 "metadata": {
  "language_info": {
   "name": "python"
  }
 },
 "nbformat": 4,
 "nbformat_minor": 2
}
