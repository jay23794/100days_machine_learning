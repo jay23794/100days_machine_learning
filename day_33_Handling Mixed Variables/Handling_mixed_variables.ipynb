{
 "cells": [
  {
   "cell_type": "markdown",
   "metadata": {},
   "source": [
    "Handling Mixed Variables\n"
   ]
  },
  {
   "cell_type": "markdown",
   "metadata": {},
   "source": [
    "Some times day comes in alpha numeric format also know as the mixed variables.\n",
    "to handle such type of data we need to separate it into different columns.\n",
    "e.g B1, B2 ,B3, A1,A2 this are the coaches of train with respect to facilities."
   ]
  }
 ],
 "metadata": {
  "language_info": {
   "name": "python"
  }
 },
 "nbformat": 4,
 "nbformat_minor": 2
}
