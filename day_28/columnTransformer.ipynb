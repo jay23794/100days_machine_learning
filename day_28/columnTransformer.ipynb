{
 "cells": [
  {
   "cell_type": "code",
   "execution_count": 1,
   "metadata": {},
   "outputs": [],
   "source": [
    "import numpy as np\n",
    "import pandas as pd"
   ]
  },
  {
   "cell_type": "markdown",
   "metadata": {},
   "source": [
    "Column transformer example"
   ]
  },
  {
   "cell_type": "code",
   "execution_count": 3,
   "metadata": {},
   "outputs": [],
   "source": [
    "from sklearn.impute import SimpleImputer\n",
    "from sklearn.preprocessing import OneHotEncoder\n",
    "from sklearn.preprocessing import OrdinalEncoder"
   ]
  },
  {
   "cell_type": "code",
   "execution_count": 4,
   "metadata": {},
   "outputs": [],
   "source": [
    "df = pd.read_csv(\"covid_toy.csv\")"
   ]
  },
  {
   "cell_type": "code",
   "execution_count": 5,
   "metadata": {},
   "outputs": [
    {
     "data": {
      "text/html": [
       "<div>\n",
       "<style scoped>\n",
       "    .dataframe tbody tr th:only-of-type {\n",
       "        vertical-align: middle;\n",
       "    }\n",
       "\n",
       "    .dataframe tbody tr th {\n",
       "        vertical-align: top;\n",
       "    }\n",
       "\n",
       "    .dataframe thead th {\n",
       "        text-align: right;\n",
       "    }\n",
       "</style>\n",
       "<table border=\"1\" class=\"dataframe\">\n",
       "  <thead>\n",
       "    <tr style=\"text-align: right;\">\n",
       "      <th></th>\n",
       "      <th>age</th>\n",
       "      <th>gender</th>\n",
       "      <th>fever</th>\n",
       "      <th>cough</th>\n",
       "      <th>city</th>\n",
       "      <th>has_covid</th>\n",
       "    </tr>\n",
       "  </thead>\n",
       "  <tbody>\n",
       "    <tr>\n",
       "      <th>0</th>\n",
       "      <td>60</td>\n",
       "      <td>Male</td>\n",
       "      <td>103.0</td>\n",
       "      <td>Mild</td>\n",
       "      <td>Kolkata</td>\n",
       "      <td>No</td>\n",
       "    </tr>\n",
       "    <tr>\n",
       "      <th>1</th>\n",
       "      <td>27</td>\n",
       "      <td>Male</td>\n",
       "      <td>100.0</td>\n",
       "      <td>Mild</td>\n",
       "      <td>Delhi</td>\n",
       "      <td>Yes</td>\n",
       "    </tr>\n",
       "    <tr>\n",
       "      <th>2</th>\n",
       "      <td>42</td>\n",
       "      <td>Male</td>\n",
       "      <td>101.0</td>\n",
       "      <td>Mild</td>\n",
       "      <td>Delhi</td>\n",
       "      <td>No</td>\n",
       "    </tr>\n",
       "    <tr>\n",
       "      <th>3</th>\n",
       "      <td>31</td>\n",
       "      <td>Female</td>\n",
       "      <td>98.0</td>\n",
       "      <td>Mild</td>\n",
       "      <td>Kolkata</td>\n",
       "      <td>No</td>\n",
       "    </tr>\n",
       "    <tr>\n",
       "      <th>4</th>\n",
       "      <td>65</td>\n",
       "      <td>Female</td>\n",
       "      <td>101.0</td>\n",
       "      <td>Mild</td>\n",
       "      <td>Mumbai</td>\n",
       "      <td>No</td>\n",
       "    </tr>\n",
       "  </tbody>\n",
       "</table>\n",
       "</div>"
      ],
      "text/plain": [
       "   age  gender  fever cough     city has_covid\n",
       "0   60    Male  103.0  Mild  Kolkata        No\n",
       "1   27    Male  100.0  Mild    Delhi       Yes\n",
       "2   42    Male  101.0  Mild    Delhi        No\n",
       "3   31  Female   98.0  Mild  Kolkata        No\n",
       "4   65  Female  101.0  Mild   Mumbai        No"
      ]
     },
     "execution_count": 5,
     "metadata": {},
     "output_type": "execute_result"
    }
   ],
   "source": [
    "df.head()"
   ]
  },
  {
   "cell_type": "code",
   "execution_count": 6,
   "metadata": {},
   "outputs": [],
   "source": [
    "from sklearn.model_selection import train_test_split\n",
    "X_train, X_test, y_train, y_test = train_test_split(df.drop(columns=[\"has_covid\"]),df['has_covid'],test_size=0.2)"
   ]
  },
  {
   "cell_type": "code",
   "execution_count": 7,
   "metadata": {},
   "outputs": [
    {
     "name": "stdout",
     "output_type": "stream",
     "text": [
      "<class 'pandas.core.frame.DataFrame'>\n",
      "RangeIndex: 100 entries, 0 to 99\n",
      "Data columns (total 6 columns):\n",
      " #   Column     Non-Null Count  Dtype  \n",
      "---  ------     --------------  -----  \n",
      " 0   age        100 non-null    int64  \n",
      " 1   gender     100 non-null    object \n",
      " 2   fever      90 non-null     float64\n",
      " 3   cough      100 non-null    object \n",
      " 4   city       100 non-null    object \n",
      " 5   has_covid  100 non-null    object \n",
      "dtypes: float64(1), int64(1), object(4)\n",
      "memory usage: 4.8+ KB\n"
     ]
    }
   ],
   "source": [
    "df.info()"
   ]
  },
  {
   "cell_type": "markdown",
   "metadata": {},
   "source": [
    "Fever column has less rows lets start filling the rows"
   ]
  },
  {
   "cell_type": "code",
   "execution_count": 34,
   "metadata": {},
   "outputs": [
    {
     "data": {
      "text/plain": [
       "(80, 1)"
      ]
     },
     "execution_count": 34,
     "metadata": {},
     "output_type": "execute_result"
    }
   ],
   "source": [
    "# filling the rows of train data by adding with imputer\n",
    "si = SimpleImputer()\n",
    "X_train_fever = si.fit_transform(X_train[['fever']])\n",
    "\n",
    "# filling the rows of Test data by adding with imputer\n",
    "X_test_fever = si.fit_transform(X_test[['fever']])\n",
    "\n",
    "X_train_fever.shape"
   ]
  },
  {
   "cell_type": "code",
   "execution_count": 35,
   "metadata": {},
   "outputs": [
    {
     "data": {
      "text/plain": [
       "(20, 1)"
      ]
     },
     "execution_count": 35,
     "metadata": {},
     "output_type": "execute_result"
    }
   ],
   "source": [
    "# Ordinal encoding\n",
    "oe = OrdinalEncoder(categories=[[\"Mild\",\"Strong\"]])\n",
    "X_train_cough = oe.fit_transform(X_train[['cough']]) \n",
    "\n",
    "X_test_cough = oe.fit_transform(X_test[['cough']]) \n",
    "X_test_cough.shape"
   ]
  },
  {
   "cell_type": "code",
   "execution_count": 36,
   "metadata": {},
   "outputs": [
    {
     "data": {
      "text/plain": [
       "(20, 4)"
      ]
     },
     "execution_count": 36,
     "metadata": {},
     "output_type": "execute_result"
    }
   ],
   "source": [
    "# Onehot encoding -> gender and city\n",
    "ohe = OneHotEncoder( drop=\"first\",sparse=False)\n",
    "X_train_gender_city = ohe.fit_transform(X_train[['gender','city']])\n",
    "\n",
    "X_test_gender_city = ohe.fit_transform(X_test[['gender','city']])\n",
    "X_test_gender_city.shape"
   ]
  },
  {
   "cell_type": "code",
   "execution_count": 45,
   "metadata": {},
   "outputs": [
    {
     "data": {
      "text/plain": [
       "(20, 1)"
      ]
     },
     "execution_count": 45,
     "metadata": {},
     "output_type": "execute_result"
    }
   ],
   "source": [
    "# Drop the age columnas it is not required\n",
    "X_train_age = X_train.drop(columns = ['gender','fever','city','cough']).values\n",
    "\n",
    "X_test_age = X_test.drop(columns = ['gender','fever','city','cough']).values\n",
    "\n",
    "X_test_age.shape"
   ]
  },
  {
   "cell_type": "code",
   "execution_count": 42,
   "metadata": {},
   "outputs": [
    {
     "data": {
      "text/plain": [
       "(80, 7)"
      ]
     },
     "execution_count": 42,
     "metadata": {},
     "output_type": "execute_result"
    }
   ],
   "source": [
    "X_train_transformed = np.concatenate((X_train_age,X_train_fever,X_train_gender_city,X_train_cough),axis=1)\n",
    "X_test_transformed =  np.concatenate((X_test_age,X_test_fever,X_test_gender_city,X_test_cough),axis=1)\n",
    "\n",
    "X_train_transformed.shape"
   ]
  },
  {
   "cell_type": "markdown",
   "metadata": {},
   "source": [
    "# The above things can be minimise using the ColumnTransformer"
   ]
  },
  {
   "cell_type": "code",
   "execution_count": 44,
   "metadata": {},
   "outputs": [],
   "source": [
    "from sklearn.compose import ColumnTransformer"
   ]
  },
  {
   "cell_type": "code",
   "execution_count": 46,
   "metadata": {},
   "outputs": [],
   "source": [
    "transformer = ColumnTransformer(transformers=[\n",
    "    ('tnf1',SimpleImputer(),['fever']),\n",
    "    ('tnf2', OrdinalEncoder(categories=[[\"Mild\",\"Strong\"]]),['cough']),\n",
    "    ('tnf3', OneHotEncoder( drop=\"first\",sparse=False),['gender','city'])\n",
    "],remainder = 'passthrough')"
   ]
  },
  {
   "cell_type": "code",
   "execution_count": 48,
   "metadata": {},
   "outputs": [
    {
     "data": {
      "text/plain": [
       "array([[103.,   1.,   1.,   0.,   0.,   0.,  46.],\n",
       "       [ 99.,   0.,   0.,   0.,   0.,   1.,  60.],\n",
       "       [104.,   0.,   1.,   0.,   0.,   1.,  42.],\n",
       "       [101.,   1.,   1.,   0.,   1.,   0.,  79.],\n",
       "       [102.,   0.,   1.,   0.,   0.,   1.,  74.],\n",
       "       [100.,   0.,   1.,   0.,   1.,   0.,  27.],\n",
       "       [100.,   0.,   1.,   0.,   0.,   0.,  10.],\n",
       "       [104.,   0.,   0.,   0.,   0.,   0.,  12.],\n",
       "       [101.,   0.,   0.,   0.,   1.,   0.,  83.],\n",
       "       [102.,   0.,   0.,   0.,   0.,   0.,  69.],\n",
       "       [100.,   0.,   1.,   0.,   0.,   0.,  11.],\n",
       "       [104.,   0.,   1.,   0.,   0.,   0.,  51.],\n",
       "       [ 98.,   1.,   1.,   0.,   1.,   0.,  34.],\n",
       "       [102.,   0.,   0.,   1.,   0.,   0.,  49.],\n",
       "       [104.,   0.,   0.,   0.,   0.,   0.,  18.],\n",
       "       [100.,   0.,   1.,   0.,   0.,   0.,  80.],\n",
       "       [ 98.,   0.,   0.,   0.,   1.,   0.,  31.],\n",
       "       [104.,   0.,   1.,   0.,   1.,   0.,  16.],\n",
       "       [101.,   0.,   0.,   0.,   0.,   0.,  20.],\n",
       "       [104.,   0.,   0.,   0.,   1.,   0.,  17.],\n",
       "       [ 98.,   0.,   1.,   0.,   1.,   0.,  24.],\n",
       "       [101.,   1.,   0.,   0.,   0.,   1.,  34.],\n",
       "       [100.,   0.,   1.,   1.,   0.,   0.,  27.],\n",
       "       [101.,   0.,   0.,   1.,   0.,   0.,  64.],\n",
       "       [100.,   1.,   0.,   0.,   0.,   0.,  19.],\n",
       "       [102.,   1.,   0.,   0.,   0.,   0.,  24.],\n",
       "       [ 98.,   0.,   1.,   0.,   0.,   0.,  73.],\n",
       "       [103.,   0.,   0.,   0.,   1.,   0.,  50.],\n",
       "       [ 98.,   1.,   0.,   1.,   0.,   0.,  40.],\n",
       "       [ 99.,   0.,   0.,   0.,   0.,   1.,  14.],\n",
       "       [104.,   1.,   0.,   0.,   0.,   0.,  56.],\n",
       "       [100.,   0.,   0.,   0.,   1.,   0.,   5.],\n",
       "       [101.,   1.,   0.,   0.,   0.,   1.,  20.],\n",
       "       [104.,   0.,   0.,   0.,   1.,   0.,   6.],\n",
       "       [101.,   0.,   0.,   1.,   0.,   0.,  75.],\n",
       "       [ 98.,   0.,   1.,   1.,   0.,   0.,  83.],\n",
       "       [104.,   1.,   0.,   1.,   0.,   0.,  75.],\n",
       "       [104.,   0.,   1.,   0.,   0.,   1.,  44.],\n",
       "       [102.,   0.,   1.,   0.,   0.,   0.,  64.],\n",
       "       [103.,   1.,   1.,   0.,   1.,   0.,  70.],\n",
       "       [ 98.,   1.,   0.,   0.,   0.,   1.,   5.],\n",
       "       [103.,   0.,   0.,   0.,   1.,   0.,  48.],\n",
       "       [101.,   1.,   1.,   0.,   0.,   0.,  47.],\n",
       "       [101.,   0.,   0.,   1.,   0.,   0.,  49.],\n",
       "       [101.,   0.,   1.,   1.,   0.,   0.,  42.],\n",
       "       [102.,   0.,   1.,   0.,   1.,   0.,   5.],\n",
       "       [ 99.,   1.,   1.,   0.,   0.,   0.,  66.],\n",
       "       [101.,   0.,   0.,   0.,   0.,   1.,  81.],\n",
       "       [ 99.,   1.,   0.,   1.,   0.,   0.,  59.],\n",
       "       [ 98.,   1.,   0.,   0.,   1.,   0.,  71.],\n",
       "       [100.,   0.,   1.,   0.,   1.,   0.,  55.],\n",
       "       [100.,   1.,   0.,   0.,   1.,   0.,  13.],\n",
       "       [103.,   0.,   0.,   0.,   1.,   0.,  69.],\n",
       "       [102.,   1.,   0.,   1.,   0.,   0.,  33.],\n",
       "       [101.,   0.,   0.,   0.,   0.,   1.,  19.],\n",
       "       [ 98.,   1.,   0.,   0.,   0.,   1.,  69.],\n",
       "       [101.,   1.,   0.,   1.,   0.,   0.,  68.],\n",
       "       [101.,   0.,   0.,   0.,   0.,   0.,  84.],\n",
       "       [101.,   0.,   0.,   0.,   1.,   0.,   8.],\n",
       "       [101.,   0.,   0.,   0.,   0.,   1.,  65.],\n",
       "       [101.,   1.,   1.,   0.,   1.,   0.,  71.],\n",
       "       [103.,   0.,   0.,   1.,   0.,   0.,  73.],\n",
       "       [ 98.,   0.,   0.,   0.,   1.,   0.,  26.],\n",
       "       [104.,   1.,   0.,   1.,   0.,   0.,  34.],\n",
       "       [103.,   0.,   0.,   0.,   0.,   0.,  16.],\n",
       "       [101.,   1.,   0.,   1.,   0.,   0.,  34.],\n",
       "       [ 99.,   0.,   1.,   0.,   0.,   0.,  72.],\n",
       "       [104.,   1.,   0.,   0.,   1.,   0.,  54.],\n",
       "       [102.,   1.,   0.,   0.,   0.,   0.,  82.],\n",
       "       [ 99.,   1.,   0.,   0.,   1.,   0.,  25.],\n",
       "       [ 98.,   1.,   0.,   0.,   0.,   1.,  81.],\n",
       "       [ 99.,   0.,   0.,   0.,   0.,   0.,  22.],\n",
       "       [ 98.,   1.,   0.,   0.,   1.,   0.,  10.],\n",
       "       [101.,   0.,   1.,   1.,   0.,   0.,  38.],\n",
       "       [100.,   0.,   0.,   0.,   1.,   0.,  19.],\n",
       "       [103.,   0.,   1.,   0.,   1.,   0.,  83.],\n",
       "       [101.,   0.,   1.,   0.,   1.,   0.,  82.],\n",
       "       [101.,   0.,   1.,   0.,   0.,   1.,  23.],\n",
       "       [100.,   1.,   0.,   0.,   0.,   0.,  47.],\n",
       "       [102.,   1.,   0.,   0.,   1.,   0.,  82.]])"
      ]
     },
     "execution_count": 48,
     "metadata": {},
     "output_type": "execute_result"
    }
   ],
   "source": [
    "transformer.fit_transform(X_train)"
   ]
  }
 ],
 "metadata": {
  "kernelspec": {
   "display_name": ".venv",
   "language": "python",
   "name": "python3"
  },
  "language_info": {
   "codemirror_mode": {
    "name": "ipython",
    "version": 3
   },
   "file_extension": ".py",
   "mimetype": "text/x-python",
   "name": "python",
   "nbconvert_exporter": "python",
   "pygments_lexer": "ipython3",
   "version": "3.9.12"
  }
 },
 "nbformat": 4,
 "nbformat_minor": 2
}
