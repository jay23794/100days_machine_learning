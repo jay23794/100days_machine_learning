{
 "cells": [
  {
   "cell_type": "markdown",
   "metadata": {},
   "source": [
    "Generally machine Learning algorithms perform better on normalized data.\n",
    "So it is important to convert data into normalized data. Here are some techniques\n",
    "Function transformer:\n",
    " 1) log transformation\n",
    " 2) Reciprocal transformation\n",
    " 3) Power(sqr/sqrt)\n",
    "Power transformer:\n",
    " 4) Box-Cox\n",
    " 5) yeo johnson"
   ]
  },
  {
   "cell_type": "markdown",
   "metadata": {},
   "source": [
    "How to fing normalisation?\n",
    "- There are certain techniques or functions \n",
    "   Using seaborn distplot\n",
    "   pandas skew()\n",
    "   QQ plot"
   ]
  },
  {
   "cell_type": "code",
   "execution_count": null,
   "metadata": {
    "vscode": {
     "languageId": "plaintext"
    }
   },
   "outputs": [],
   "source": [
    " log transformation:\n",
    "  It is generally use when data is  right skewd"
   ]
  },
  {
   "cell_type": "markdown",
   "metadata": {},
   "source": [
    "Reciprocal transformation:\n",
    " The reciprocal transformer, often used in feature engineering, calculates the reciprocal (inverse) of the feature values. It's typically used when the relationship between the feature and the target variable is expected to be more linear when the feature values are transformed."
   ]
  },
  {
   "cell_type": "code",
   "execution_count": null,
   "metadata": {
    "vscode": {
     "languageId": "plaintext"
    }
   },
   "outputs": [],
   "source": [
    "sqr transformation: \n",
    " It is generally use when data is  left skewd"
   ]
  }
 ],
 "metadata": {
  "language_info": {
   "name": "python"
  }
 },
 "nbformat": 4,
 "nbformat_minor": 2
}
